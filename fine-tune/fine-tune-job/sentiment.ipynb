{
 "cells": [
  {
   "cell_type": "code",
   "execution_count": 1,
   "metadata": {},
   "outputs": [],
   "source": [
    "from openai import OpenAI\n",
    "from dotenv import load_dotenv\n",
    "import os\n",
    "\n",
    "load_dotenv()\n",
    "client = OpenAI(\n",
    "    api_key=os.getenv('API_KEY'),\n",
    ")"
   ]
  },
  {
   "cell_type": "code",
   "execution_count": 2,
   "metadata": {},
   "outputs": [
    {
     "data": {
      "text/plain": [
       "FineTuningJob(id='ftjob-j7GtymsipOny95mYo9mUWUBy', created_at=1711136776, error=Error(code=None, message=None, param=None, error=None), fine_tuned_model=None, finished_at=None, hyperparameters=Hyperparameters(n_epochs=1, batch_size='auto', learning_rate_multiplier='auto'), model='ft:gpt-3.5-turbo-1106:personal::8mOcSIg2', object='fine_tuning.job', organization_id='org-wPoKgFWPTPlLTrCpiGnb6Vkq', result_files=[], status='validating_files', trained_tokens=None, training_file='file-0XAQtuh62OcXSYKrVmAyHkdY', validation_file=None, user_provided_suffix=None)"
      ]
     },
     "execution_count": 2,
     "metadata": {},
     "output_type": "execute_result"
    }
   ],
   "source": [
    "client.fine_tuning.jobs.create(\n",
    "  training_file=\"file-0XAQtuh62OcXSYKrVmAyHkdY\", \n",
    "  model=\"ft:gpt-3.5-turbo-1106:personal::8mOcSIg2\", \n",
    "  hyperparameters={\n",
    "    \"n_epochs\":1\n",
    "  }\n",
    ")"
   ]
  }
 ],
 "metadata": {
  "kernelspec": {
   "display_name": "base",
   "language": "python",
   "name": "python3"
  },
  "language_info": {
   "codemirror_mode": {
    "name": "ipython",
    "version": 3
   },
   "file_extension": ".py",
   "mimetype": "text/x-python",
   "name": "python",
   "nbconvert_exporter": "python",
   "pygments_lexer": "ipython3",
   "version": "3.9.18"
  }
 },
 "nbformat": 4,
 "nbformat_minor": 2
}
