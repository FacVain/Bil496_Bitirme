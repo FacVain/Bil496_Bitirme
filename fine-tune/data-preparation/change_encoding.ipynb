{
 "cells": [
  {
   "cell_type": "code",
   "execution_count": 1,
   "id": "1b1ff8ab-e11b-424c-9c1b-20e8ffce0fab",
   "metadata": {},
   "outputs": [],
   "source": [
    "import pandas as pd    \n",
    "import json"
   ]
  },
  {
   "cell_type": "code",
   "execution_count": 3,
   "id": "bcf08630-7600-41b2-9ce0-3a1f7a29df08",
   "metadata": {},
   "outputs": [
    {
     "data": {
      "text/html": [
       "<div>\n",
       "<style scoped>\n",
       "    .dataframe tbody tr th:only-of-type {\n",
       "        vertical-align: middle;\n",
       "    }\n",
       "\n",
       "    .dataframe tbody tr th {\n",
       "        vertical-align: top;\n",
       "    }\n",
       "\n",
       "    .dataframe thead th {\n",
       "        text-align: right;\n",
       "    }\n",
       "</style>\n",
       "<table border=\"1\" class=\"dataframe\">\n",
       "  <thead>\n",
       "    <tr style=\"text-align: right;\">\n",
       "      <th></th>\n",
       "      <th>messages</th>\n",
       "    </tr>\n",
       "  </thead>\n",
       "  <tbody>\n",
       "    <tr>\n",
       "      <th>0</th>\n",
       "      <td>[{'role': 'system', 'content': 'Do tone analys...</td>\n",
       "    </tr>\n",
       "    <tr>\n",
       "      <th>1</th>\n",
       "      <td>[{'role': 'system', 'content': 'Do tone analys...</td>\n",
       "    </tr>\n",
       "    <tr>\n",
       "      <th>2</th>\n",
       "      <td>[{'role': 'system', 'content': 'Do tone analys...</td>\n",
       "    </tr>\n",
       "    <tr>\n",
       "      <th>3</th>\n",
       "      <td>[{'role': 'system', 'content': 'Do tone analys...</td>\n",
       "    </tr>\n",
       "    <tr>\n",
       "      <th>4</th>\n",
       "      <td>[{'role': 'system', 'content': 'Do tone analys...</td>\n",
       "    </tr>\n",
       "    <tr>\n",
       "      <th>...</th>\n",
       "      <td>...</td>\n",
       "    </tr>\n",
       "    <tr>\n",
       "      <th>3594</th>\n",
       "      <td>[{'role': 'system', 'content': 'Do tone analys...</td>\n",
       "    </tr>\n",
       "    <tr>\n",
       "      <th>3595</th>\n",
       "      <td>[{'role': 'system', 'content': 'Do tone analys...</td>\n",
       "    </tr>\n",
       "    <tr>\n",
       "      <th>3596</th>\n",
       "      <td>[{'role': 'system', 'content': 'Do tone analys...</td>\n",
       "    </tr>\n",
       "    <tr>\n",
       "      <th>3597</th>\n",
       "      <td>[{'role': 'system', 'content': 'Do tone analys...</td>\n",
       "    </tr>\n",
       "    <tr>\n",
       "      <th>3598</th>\n",
       "      <td>[{'role': 'system', 'content': 'Do tone analys...</td>\n",
       "    </tr>\n",
       "  </tbody>\n",
       "</table>\n",
       "<p>3599 rows × 1 columns</p>\n",
       "</div>"
      ],
      "text/plain": [
       "                                               messages\n",
       "0     [{'role': 'system', 'content': 'Do tone analys...\n",
       "1     [{'role': 'system', 'content': 'Do tone analys...\n",
       "2     [{'role': 'system', 'content': 'Do tone analys...\n",
       "3     [{'role': 'system', 'content': 'Do tone analys...\n",
       "4     [{'role': 'system', 'content': 'Do tone analys...\n",
       "...                                                 ...\n",
       "3594  [{'role': 'system', 'content': 'Do tone analys...\n",
       "3595  [{'role': 'system', 'content': 'Do tone analys...\n",
       "3596  [{'role': 'system', 'content': 'Do tone analys...\n",
       "3597  [{'role': 'system', 'content': 'Do tone analys...\n",
       "3598  [{'role': 'system', 'content': 'Do tone analys...\n",
       "\n",
       "[3599 rows x 1 columns]"
      ]
     },
     "execution_count": 3,
     "metadata": {},
     "output_type": "execute_result"
    }
   ],
   "source": [
    "jsonObj = pd.read_json(path_or_buf='../jsonl/tweet-tone-train.jsonl', lines=True)\n",
    "jsonObj"
   ]
  },
  {
   "cell_type": "code",
   "execution_count": 9,
   "id": "90818d2b-2887-4bef-a905-732d8c8b2c8b",
   "metadata": {},
   "outputs": [],
   "source": [
    "jsonObj.to_json(path_or_buf='../jsonl/tweet-tone-train2.jsonl', orient='records' ,lines=True, force_ascii=False)"
   ]
  }
 ],
 "metadata": {
  "kernelspec": {
   "display_name": "Python 3 (ipykernel)",
   "language": "python",
   "name": "python3"
  },
  "language_info": {
   "codemirror_mode": {
    "name": "ipython",
    "version": 3
   },
   "file_extension": ".py",
   "mimetype": "text/x-python",
   "name": "python",
   "nbconvert_exporter": "python",
   "pygments_lexer": "ipython3",
   "version": "3.9.18"
  }
 },
 "nbformat": 4,
 "nbformat_minor": 5
}
